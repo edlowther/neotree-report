{
 "cells": [
  {
   "cell_type": "code",
   "execution_count": 1,
   "id": "314be50f-53c9-4174-8504-30a192139d2c",
   "metadata": {},
   "outputs": [],
   "source": [
    "import pandas as pd\n",
    "import numpy as np\n",
    "\n",
    "from src.tablebuilder import TableBuilder"
   ]
  },
  {
   "cell_type": "code",
   "execution_count": 2,
   "id": "219efa7f-2af6-4b38-b633-c1a515378596",
   "metadata": {},
   "outputs": [],
   "source": [
    "%load_ext autoreload\n",
    "%autoreload 2"
   ]
  },
  {
   "cell_type": "markdown",
   "id": "5ca8c9c0-70a5-4ae8-bdee-e9a115f4a533",
   "metadata": {},
   "source": [
    "There are 13,068 rows in the raw dataset, but this in itself is not very useful information - we really want to know how many individual neonates are in the data (some appear on multiple rows, corresponding to, for example, multiple blood culture tests). This number can be found using the unique identifier column (`Uid`):"
   ]
  },
  {
   "cell_type": "code",
   "execution_count": 3,
   "id": "3397688b-9f6e-431f-aab5-808a151bdfbb",
   "metadata": {},
   "outputs": [
    {
     "name": "stdout",
     "output_type": "stream",
     "text": [
      "n rows:\n",
      "13068\n",
      "n unique ids:\n",
      "12392\n"
     ]
    }
   ],
   "source": [
    "data_filepath = './data/sepsis_updated_data_Feb21-Sep23.csv'\n",
    "raw_df = pd.read_csv(data_filepath)\n",
    "print('n rows:')\n",
    "print(len(raw_df))\n",
    "print('n unique ids:')\n",
    "print(len(raw_df['Uid'].unique()))"
   ]
  },
  {
   "cell_type": "markdown",
   "id": "d212f22d-8693-47b8-8877-4f39c1902ac7",
   "metadata": {},
   "source": [
    "Check start and end dates in the dataset:"
   ]
  },
  {
   "cell_type": "code",
   "execution_count": 4,
   "id": "61999d63-a56e-4011-a522-600c2fd4d9e4",
   "metadata": {},
   "outputs": [
    {
     "name": "stdout",
     "output_type": "stream",
     "text": [
      "First admission:\n",
      "2021-02-02 12:10:50\n",
      "Last admission:\n",
      "2023-09-30 15:58:36\n"
     ]
    }
   ],
   "source": [
    "raw_df['Datetimeadmission'] = pd.to_datetime(raw_df['Datetimeadmission'])\n",
    "print('First admission:')\n",
    "print(raw_df['Datetimeadmission'].min())\n",
    "print('Last admission:')\n",
    "print(raw_df['Datetimeadmission'].max())"
   ]
  },
  {
   "cell_type": "markdown",
   "id": "8a108f16-7a6f-4764-a5ed-2705dee6104c",
   "metadata": {},
   "source": [
    "Find median birthweight:"
   ]
  },
  {
   "cell_type": "code",
   "execution_count": 5,
   "id": "5c75cb86-70d9-4eb6-97fc-e6e0cda6e429",
   "metadata": {},
   "outputs": [
    {
     "data": {
      "text/plain": [
       "2700.0"
      ]
     },
     "execution_count": 5,
     "metadata": {},
     "output_type": "execute_result"
    }
   ],
   "source": [
    "raw_df[['Uid', 'Birthweight']].drop_duplicates()['Birthweight'].median()"
   ]
  },
  {
   "cell_type": "markdown",
   "id": "85b963e6-9ede-4666-a8a2-cb92f4e9f5f0",
   "metadata": {},
   "source": [
    "For case fatality rate, we assume that all those who died had the date and time of their death recorded in Neotree:"
   ]
  },
  {
   "cell_type": "code",
   "execution_count": 6,
   "id": "b7d2d235-1ad8-4f82-897d-95a880ca4702",
   "metadata": {},
   "outputs": [
    {
     "name": "stdout",
     "output_type": "stream",
     "text": [
      "n died: 1963\n",
      "case fatality rate: 158\n"
     ]
    }
   ],
   "source": [
    "n_died = len(raw_df.loc[~pd.isna(raw_df['Datetimedeath']), 'Uid'].unique())\n",
    "print('n died:', n_died)\n",
    "n_total = len(raw_df['Uid'].unique())\n",
    "print('case fatality rate:', round(n_died / n_total * 1000))"
   ]
  },
  {
   "cell_type": "markdown",
   "id": "39ba08b3-75cc-42dd-b44f-4bf5bcd2d3c4",
   "metadata": {},
   "source": [
    "How many had blood tests taken?:"
   ]
  },
  {
   "cell_type": "code",
   "execution_count": 7,
   "id": "bc832ee9-4683-4a23-b804-4475bb879d01",
   "metadata": {},
   "outputs": [
    {
     "name": "stdout",
     "output_type": "stream",
     "text": [
      "n cases with test taken: 3033\n",
      "n cases with no non-rejected tests: 502\n"
     ]
    }
   ],
   "source": [
    "print('n cases with test taken:', len(raw_df.loc[~pd.isna(raw_df['Neolab_finalbcresult']), 'Uid'].unique()))\n",
    "rejected_ids = raw_df.loc[raw_df['Neolab_finalbcresult'].isin(['Contaminant', 'Rej']), 'Uid'].unique()\n",
    "non_rejected_ids = raw_df.loc[raw_df['Neolab_finalbcresult'].isin(['Neg', 'NegP', 'Pos', 'PosP']), 'Uid'].unique()\n",
    "print('n cases with no non-rejected tests:', len(np.setdiff1d(rejected_ids, non_rejected_ids)))"
   ]
  },
  {
   "cell_type": "markdown",
   "id": "9cdd22c2-e8f1-4431-8f67-1e09f65327be",
   "metadata": {},
   "source": [
    "Load `datamanager` class to start preparing the raw data for analysis, first looking at the breakdown of the blood test results after removing the rejected rows:"
   ]
  },
  {
   "cell_type": "code",
   "execution_count": 8,
   "id": "e5572be9-17f9-4f26-8905-97542acfccfc",
   "metadata": {},
   "outputs": [],
   "source": [
    "from src.datamanager import DataManager"
   ]
  },
  {
   "cell_type": "code",
   "execution_count": 9,
   "id": "1fca3b61-0c67-4c2e-9a86-6a03360d68d8",
   "metadata": {},
   "outputs": [],
   "source": [
    "columns_of_interest = ['Apgar1', 'Apgar5', 'Age', 'Gender',\n",
    "       'Satsair', 'Typebirth', 'Romlength', \n",
    "       'Gestation', 'Birthweight', 'Temperature', 'Skin',\n",
    "       'Dangersigns', 'Signsrd', 'Wob', 'Activity', 'Umbilicus', 'Colour',\n",
    "       'Rr', 'Vomiting', 'Abdomen', 'Fontanelle', 'Hr']\n",
    "data_manager = DataManager(data_filepath)"
   ]
  },
  {
   "cell_type": "markdown",
   "id": "b1caafc5-03b4-44f1-815f-4bffdcbff16d",
   "metadata": {},
   "source": [
    "How many cases are included in the analysis?"
   ]
  },
  {
   "cell_type": "code",
   "execution_count": 10,
   "id": "7b279298-0dfd-4ab4-a0a0-19bdd50211a9",
   "metadata": {},
   "outputs": [
    {
     "name": "stdout",
     "output_type": "stream",
     "text": [
      "11890\n"
     ]
    }
   ],
   "source": [
    "n_included = len(data_manager.df['Uid'].unique())\n",
    "print(n_included)"
   ]
  },
  {
   "cell_type": "code",
   "execution_count": 11,
   "id": "cde5ec40-0f10-4527-b686-c68d86d4295e",
   "metadata": {},
   "outputs": [
    {
     "name": "stdout",
     "output_type": "stream",
     "text": [
      "n_with_diagnosis_recorded: 8624\n",
      "n_with_eons_diagnosis: 99\n",
      "pct of diagnoses that were EONS: 1.148\n"
     ]
    }
   ],
   "source": [
    "n_with_diagnosis_recorded = len(data_manager.df.loc[~pd.isna(data_manager.df['Diagdis1']), 'Uid'].unique())\n",
    "n_with_eons_diagnosis = len(data_manager.df.loc[data_manager.df['eons_diagnosis'], 'Uid'].unique())\n",
    "print('n_with_diagnosis_recorded:', n_with_diagnosis_recorded)\n",
    "print('n_with_eons_diagnosis:', n_with_eons_diagnosis)\n",
    "print(f'pct of diagnoses that were EONS: {n_with_eons_diagnosis / n_with_diagnosis_recorded * 100:.3f}')"
   ]
  },
  {
   "cell_type": "code",
   "execution_count": 12,
   "id": "19368b39-c9e5-41ed-ba71-09879b7c3ef7",
   "metadata": {},
   "outputs": [
    {
     "name": "stdout",
     "output_type": "stream",
     "text": [
      "n_with_death_recorded: 1878\n",
      "n_with_death_recorded_as_eons: 47\n",
      "pct of causes of death that were recorded as EONS: 2.503\n"
     ]
    }
   ],
   "source": [
    "n_with_death_recorded = len(data_manager.df.loc[~pd.isna(data_manager.df['Causedeath']), 'Uid'].unique())\n",
    "n_with_death_recorded_as_eons = len(data_manager.df.loc[data_manager.df['eons_cause_of_death'], 'Uid'].unique())\n",
    "print('n_with_death_recorded:', n_with_death_recorded)\n",
    "print('n_with_death_recorded_as_eons:', n_with_death_recorded_as_eons)\n",
    "print(f'pct of causes of death that were recorded as EONS: {n_with_death_recorded_as_eons / n_with_death_recorded * 100:.3f}')"
   ]
  },
  {
   "cell_type": "markdown",
   "id": "af6182ec-3036-4147-9818-1d0e343e5617",
   "metadata": {},
   "source": [
    "How many neonates with blood test results remain in the data after removing contaminated samples?:"
   ]
  },
  {
   "cell_type": "code",
   "execution_count": 13,
   "id": "015b0b32-1a87-4f6c-8c4e-b841363f1e1f",
   "metadata": {},
   "outputs": [
    {
     "data": {
      "text/plain": [
       "2531"
      ]
     },
     "execution_count": 13,
     "metadata": {},
     "output_type": "execute_result"
    }
   ],
   "source": [
    "len(data_manager.df.loc[~pd.isna(data_manager.df['Neolab_finalbcresult']), 'Uid'].unique())"
   ]
  },
  {
   "cell_type": "markdown",
   "id": "8e3b6cb5-29af-4a8e-bd68-162d17234ed3",
   "metadata": {},
   "source": [
    "In some cases, the results of the blood test are not material to our modelling strategy, as a neonate testing negative with a positive diagnosis would still be counted as positive, because of the diagnosis. The same is true for cause of death:"
   ]
  },
  {
   "cell_type": "code",
   "execution_count": 14,
   "id": "d3698c41-765e-4121-8081-2f6540b594c1",
   "metadata": {},
   "outputs": [
    {
     "data": {
      "text/plain": [
       "57"
      ]
     },
     "execution_count": 14,
     "metadata": {},
     "output_type": "execute_result"
    }
   ],
   "source": [
    "len(data_manager.df.loc[(~pd.isna(data_manager.df['Neolab_finalbcresult'])) &\n",
    "                        (data_manager.df['eons_diagnosis'] | data_manager.df['eons_cause_of_death']), 'Uid'].unique())"
   ]
  },
  {
   "cell_type": "markdown",
   "id": "90b07d66-fbf3-4276-8157-cdbef934dcc8",
   "metadata": {},
   "source": [
    "If we remove duplicate rows in the data, we can see how an explanation for the construction of the composite outcome variable breaks down:"
   ]
  },
  {
   "cell_type": "code",
   "execution_count": 15,
   "id": "071caeb2-4d22-4926-9341-fc883317e9dd",
   "metadata": {},
   "outputs": [
    {
     "data": {
      "text/plain": [
       "no_tests_taken        9270\n",
       "neg_result_found      1502\n",
       "all_tests_excluded     738\n",
       "pos_result_found       234\n",
       "diagnosis_or_death     146\n",
       "Name: description, dtype: int64"
      ]
     },
     "execution_count": 15,
     "metadata": {},
     "output_type": "execute_result"
    }
   ],
   "source": [
    "data_manager.remove_duplicate_predictors(columns_of_interest, 'bc_positive_or_diagnosis_or_cause_of_death')\n",
    "data_manager.df['description'].value_counts()"
   ]
  },
  {
   "cell_type": "code",
   "execution_count": 16,
   "id": "022f3907-55b1-41d5-ad04-d0b7528f64e5",
   "metadata": {},
   "outputs": [
    {
     "data": {
      "text/plain": [
       "False    11510\n",
       "True       380\n",
       "Name: bc_positive_or_diagnosis_or_cause_of_death, dtype: int64"
      ]
     },
     "execution_count": 16,
     "metadata": {},
     "output_type": "execute_result"
    }
   ],
   "source": [
    "data_manager.df['bc_positive_or_diagnosis_or_cause_of_death'].value_counts()"
   ]
  },
  {
   "cell_type": "markdown",
   "id": "b8f95581-0f59-4c15-b3b9-18f5b2c65ce3",
   "metadata": {},
   "source": [
    "By default, the DataManager class ignores positive test results that were taken after the 72-hour threshold, or with otherwise faulty age data, so these results will already have been removed from the values above - but we can tell it not to do this:"
   ]
  },
  {
   "cell_type": "code",
   "execution_count": 17,
   "id": "300684d4-0b1e-44ae-817a-77103504d41f",
   "metadata": {},
   "outputs": [],
   "source": [
    "ignore_problematic_ages_data_manager = DataManager(data_filepath, drop_bad_age_test_results=False)\n",
    "ignore_problematic_ages_data_manager.remove_duplicate_predictors(columns_of_interest, 'bc_positive_or_diagnosis_or_cause_of_death')"
   ]
  },
  {
   "cell_type": "markdown",
   "id": "38567d65-ec53-428c-ba75-45ceaa8cc215",
   "metadata": {},
   "source": [
    "This gives us the number of cases with positive test results - including LONS or those where we can't be sure of the neonate's age at the time of testing:"
   ]
  },
  {
   "cell_type": "code",
   "execution_count": 18,
   "id": "10f51ef9-dfce-4750-8084-b786644cee2e",
   "metadata": {},
   "outputs": [
    {
     "data": {
      "text/plain": [
       "no_tests_taken        9270\n",
       "neg_result_found      2013\n",
       "pos_result_found       461\n",
       "diagnosis_or_death     146\n",
       "Name: description, dtype: int64"
      ]
     },
     "execution_count": 18,
     "metadata": {},
     "output_type": "execute_result"
    }
   ],
   "source": [
    "ignore_problematic_ages_data_manager.df['description'].value_counts()"
   ]
  },
  {
   "cell_type": "markdown",
   "id": "4e1a885d-fd1a-4b5a-9ed3-19aa6b711ffb",
   "metadata": {},
   "source": [
    "The difference between the number of positive-tested cases under these two scenarios:"
   ]
  },
  {
   "cell_type": "code",
   "execution_count": 19,
   "id": "dd1e58f3-fcb4-4af0-ace4-1dc0843d9fc2",
   "metadata": {},
   "outputs": [
    {
     "data": {
      "text/plain": [
       "227"
      ]
     },
     "execution_count": 19,
     "metadata": {},
     "output_type": "execute_result"
    }
   ],
   "source": [
    "461 - 234"
   ]
  },
  {
   "cell_type": "markdown",
   "id": "c90d92c9-4515-4018-9875-373bdfadfb76",
   "metadata": {},
   "source": [
    "n diagnosed positive + n assigned cause of death + cases with positive tests who hadn't been diagnosed or assigned cause of death - n removed from positive class due to age data:"
   ]
  },
  {
   "cell_type": "code",
   "execution_count": 20,
   "id": "a215cc5f-4de2-4c57-956e-41a99dd9e36b",
   "metadata": {},
   "outputs": [
    {
     "data": {
      "text/plain": [
       "380"
      ]
     },
     "execution_count": 20,
     "metadata": {},
     "output_type": "execute_result"
    }
   ],
   "source": [
    "99 + 47 + 461 - 227"
   ]
  },
  {
   "cell_type": "markdown",
   "id": "c6444978-6db7-47d2-9da2-c8a6b7fe75ae",
   "metadata": {},
   "source": [
    "This is equal to the number of positive cases in our outcome variable."
   ]
  },
  {
   "cell_type": "markdown",
   "id": "017d3067-c430-4d74-9b7b-f03da31a341d",
   "metadata": {},
   "source": [
    "We can also check how many of the 2531 tests would have been positive if we weren't also using the diagnosis and cause of death variables:"
   ]
  },
  {
   "cell_type": "code",
   "execution_count": 21,
   "id": "dc2f8a2f-9bad-4354-a227-c5dee838144b",
   "metadata": {},
   "outputs": [
    {
     "data": {
      "text/plain": [
       "no_tests_taken      9359\n",
       "neg_result_found    2052\n",
       "pos_result_found     479\n",
       "Name: description, dtype: int64"
      ]
     },
     "execution_count": 21,
     "metadata": {},
     "output_type": "execute_result"
    }
   ],
   "source": [
    "ignore_problematic_ages_and_diagnoses_data_manager = DataManager(data_filepath, drop_bad_age_test_results=False, include_diagnosis_and_cause_of_death=False)\n",
    "ignore_problematic_ages_and_diagnoses_data_manager.remove_duplicate_predictors(columns_of_interest, 'bc_positive_or_diagnosis_or_cause_of_death')\n",
    "\n",
    "ignore_problematic_ages_and_diagnoses_data_manager.df['description'].value_counts()"
   ]
  },
  {
   "cell_type": "markdown",
   "id": "8529dad0-fec8-4d02-bb66-e26074b57294",
   "metadata": {},
   "source": [
    "For the analysis of missing values:"
   ]
  },
  {
   "cell_type": "code",
   "execution_count": 22,
   "id": "a80984a7-92a7-4b94-a2d2-75844513ff2d",
   "metadata": {},
   "outputs": [
    {
     "name": "stdout",
     "output_type": "stream",
     "text": [
      "Bsmmol       | 11639 | 97.889%\n",
      "Apgar10      | 10123 | 85.139%\n",
      "Apgar5       |   851 | 7.157%\n",
      "Apgar1       |   812 | 6.829%\n",
      "Age          |   269 | 2.262%\n",
      "Satsair      |   238 | 2.002%\n",
      "Rr           |   119 | 1.001%\n",
      "Birthweight  |    35 | 0.294%\n",
      "Hr           |    15 | 0.126%\n",
      "Gestation    |     3 | 0.025%\n",
      "Temperature  |     0 | 0.000%\n"
     ]
    }
   ],
   "source": [
    "all_features = ['Apgar1', 'Apgar5', 'Apgar10', 'Age', 'Gender',\n",
    "       'Bsmmol', 'Satsair', 'Typebirth', 'Romlength',\n",
    "       'Gestation', 'Birthweight', 'Temperature', 'Skin',\n",
    "       'Dangersigns', 'Signsrd', 'Wob', 'Activity', 'Umbilicus', 'Colour',\n",
    "       'Rr', 'Vomiting', 'Abdomen', 'Fontanelle', 'Hr']\n",
    "is_float = data_manager.df[all_features].dtypes == 'float64'\n",
    "\n",
    "for index, value in data_manager.df[np.array(all_features)[is_float]].isna().sum().sort_values(ascending=False).items(): \n",
    "       print(f'{index:<12} | {value:>5} | {value / len(data_manager.df):.3%}')"
   ]
  },
  {
   "cell_type": "code",
   "execution_count": 23,
   "id": "aaf22387-e32c-43d1-a466-1595451052ca",
   "metadata": {},
   "outputs": [
    {
     "name": "stdout",
     "output_type": "stream",
     "text": [
      "Wob          |  6418 | 53.978%\n",
      "Romlength    |  1362 | 11.455%\n",
      "Skin         |    83 | 0.698%\n",
      "Abdomen      |    53 | 0.446%\n",
      "Colour       |    31 | 0.261%\n",
      "Vomiting     |    31 | 0.261%\n",
      "Umbilicus    |    29 | 0.244%\n",
      "Typebirth    |     3 | 0.025%\n",
      "Signsrd      |     3 | 0.025%\n",
      "Activity     |     2 | 0.017%\n",
      "Fontanelle   |     2 | 0.017%\n",
      "Dangersigns  |     1 | 0.008%\n",
      "Gender       |     0 | 0.000%\n"
     ]
    }
   ],
   "source": [
    "for index, value in data_manager.df[np.array(all_features)[-is_float]].isna().sum().sort_values(ascending=False).items(): \n",
    "       print(f'{index:<12} | {value:>5} | {value / len(data_manager.df):.3%}')"
   ]
  },
  {
   "cell_type": "markdown",
   "id": "8314f3cb-0de8-45f3-b619-df1a98d106ff",
   "metadata": {},
   "source": [
    "To count values in the composite outcome variable with missing continuous values removed:"
   ]
  },
  {
   "cell_type": "code",
   "execution_count": 24,
   "id": "711a5e78-823f-46bc-a831-5a1aded7a9a4",
   "metadata": {},
   "outputs": [
    {
     "name": "stdout",
     "output_type": "stream",
     "text": [
      "Total number of rows: 10420\n"
     ]
    },
    {
     "data": {
      "text/plain": [
       "False    10094\n",
       "True       326\n",
       "Name: bc_positive_or_diagnosis_or_cause_of_death, dtype: int64"
      ]
     },
     "execution_count": 24,
     "metadata": {},
     "output_type": "execute_result"
    }
   ],
   "source": [
    "X_train, X_test, y_train, y_test = data_manager.get_X_y(columns_of_interest, seed=2024, y_label='bc_positive_or_diagnosis_or_cause_of_death')\n",
    "y = pd.concat([y_train, y_test])\n",
    "print('Total number of rows:', len(y))\n",
    "pd.Series(y).value_counts()"
   ]
  },
  {
   "cell_type": "markdown",
   "id": "c2af4dde-0b87-42e3-ace4-c5525d9b4d70",
   "metadata": {},
   "source": [
    "Finally, we generate the values for the table summarising the input data, using some fairly complex logic hidden in `./src/tablebuilder.py`:"
   ]
  },
  {
   "cell_type": "code",
   "execution_count": 25,
   "id": "e03a4c91-5917-4f52-b49b-d28933ddfc85",
   "metadata": {},
   "outputs": [
    {
     "name": "stdout",
     "output_type": "stream",
     "text": [
      "Value(data_name='*', display_name='Yes (all feeds/ blood/ green)')\n"
     ]
    },
    {
     "data": {
      "text/html": [
       "<div>\n",
       "<style scoped>\n",
       "    .dataframe tbody tr th:only-of-type {\n",
       "        vertical-align: middle;\n",
       "    }\n",
       "\n",
       "    .dataframe tbody tr th {\n",
       "        vertical-align: top;\n",
       "    }\n",
       "\n",
       "    .dataframe thead th {\n",
       "        text-align: right;\n",
       "    }\n",
       "</style>\n",
       "<table border=\"1\" class=\"dataframe\">\n",
       "  <thead>\n",
       "    <tr style=\"text-align: right;\">\n",
       "      <th></th>\n",
       "      <th>0</th>\n",
       "      <th>1</th>\n",
       "      <th>2</th>\n",
       "      <th>3</th>\n",
       "      <th>4</th>\n",
       "    </tr>\n",
       "  </thead>\n",
       "  <tbody>\n",
       "    <tr>\n",
       "      <th>0</th>\n",
       "      <td>Age (hour); median [Q1-Q3]</td>\n",
       "      <td>-</td>\n",
       "      <td>2.0 [1.0-7.0]</td>\n",
       "      <td>2.0 [1.0-8.0]</td>\n",
       "      <td>2.0 [1.0-7.0]</td>\n",
       "    </tr>\n",
       "    <tr>\n",
       "      <th>1</th>\n",
       "      <td></td>\n",
       "      <td>Missing n (%)</td>\n",
       "      <td>269 (2.26)</td>\n",
       "      <td>2 (0.74)</td>\n",
       "      <td>267 (99.26)</td>\n",
       "    </tr>\n",
       "    <tr>\n",
       "      <th>2</th>\n",
       "      <td>Gender; n (%)</td>\n",
       "      <td>Female</td>\n",
       "      <td>5334 (44.86)</td>\n",
       "      <td>160 (3.00)</td>\n",
       "      <td>5174 (97.00)</td>\n",
       "    </tr>\n",
       "    <tr>\n",
       "      <th>3</th>\n",
       "      <td></td>\n",
       "      <td>Male</td>\n",
       "      <td>6532 (54.94)</td>\n",
       "      <td>220 (3.37)</td>\n",
       "      <td>6312 (96.63)</td>\n",
       "    </tr>\n",
       "    <tr>\n",
       "      <th>4</th>\n",
       "      <td></td>\n",
       "      <td>Ambiguous</td>\n",
       "      <td>24 (0.20)</td>\n",
       "      <td>0 (0.00)</td>\n",
       "      <td>24 (100.00)</td>\n",
       "    </tr>\n",
       "    <tr>\n",
       "      <th>...</th>\n",
       "      <td>...</td>\n",
       "      <td>...</td>\n",
       "      <td>...</td>\n",
       "      <td>...</td>\n",
       "      <td>...</td>\n",
       "    </tr>\n",
       "    <tr>\n",
       "      <th>69</th>\n",
       "      <td></td>\n",
       "      <td>Missing</td>\n",
       "      <td>53 (0.45)</td>\n",
       "      <td>0 (0.00)</td>\n",
       "      <td>53 (100.00)</td>\n",
       "    </tr>\n",
       "    <tr>\n",
       "      <th>70</th>\n",
       "      <td>Fontanelle; n (%)</td>\n",
       "      <td>Flat</td>\n",
       "      <td>11785 (99.12)</td>\n",
       "      <td>377 (3.20)</td>\n",
       "      <td>11408 (96.80)</td>\n",
       "    </tr>\n",
       "    <tr>\n",
       "      <th>71</th>\n",
       "      <td></td>\n",
       "      <td>Bulging</td>\n",
       "      <td>51 (0.43)</td>\n",
       "      <td>1 (1.96)</td>\n",
       "      <td>50 (98.04)</td>\n",
       "    </tr>\n",
       "    <tr>\n",
       "      <th>72</th>\n",
       "      <td></td>\n",
       "      <td>Sunken</td>\n",
       "      <td>52 (0.44)</td>\n",
       "      <td>2 (3.85)</td>\n",
       "      <td>50 (96.15)</td>\n",
       "    </tr>\n",
       "    <tr>\n",
       "      <th>73</th>\n",
       "      <td></td>\n",
       "      <td>Missing</td>\n",
       "      <td>2 (0.02)</td>\n",
       "      <td>0 (0.00)</td>\n",
       "      <td>2 (100.00)</td>\n",
       "    </tr>\n",
       "  </tbody>\n",
       "</table>\n",
       "<p>74 rows × 5 columns</p>\n",
       "</div>"
      ],
      "text/plain": [
       "                             0              1              2              3  \\\n",
       "0   Age (hour); median [Q1-Q3]              -  2.0 [1.0-7.0]  2.0 [1.0-8.0]   \n",
       "1                               Missing n (%)     269 (2.26)       2 (0.74)   \n",
       "2                Gender; n (%)         Female   5334 (44.86)     160 (3.00)   \n",
       "3                                        Male   6532 (54.94)     220 (3.37)   \n",
       "4                                   Ambiguous      24 (0.20)       0 (0.00)   \n",
       "..                         ...            ...            ...            ...   \n",
       "69                                    Missing      53 (0.45)       0 (0.00)   \n",
       "70           Fontanelle; n (%)           Flat  11785 (99.12)     377 (3.20)   \n",
       "71                                    Bulging      51 (0.43)       1 (1.96)   \n",
       "72                                     Sunken      52 (0.44)       2 (3.85)   \n",
       "73                                    Missing       2 (0.02)       0 (0.00)   \n",
       "\n",
       "                4  \n",
       "0   2.0 [1.0-7.0]  \n",
       "1     267 (99.26)  \n",
       "2    5174 (97.00)  \n",
       "3    6312 (96.63)  \n",
       "4     24 (100.00)  \n",
       "..            ...  \n",
       "69    53 (100.00)  \n",
       "70  11408 (96.80)  \n",
       "71     50 (98.04)  \n",
       "72     50 (96.15)  \n",
       "73     2 (100.00)  \n",
       "\n",
       "[74 rows x 5 columns]"
      ]
     },
     "execution_count": 25,
     "metadata": {},
     "output_type": "execute_result"
    }
   ],
   "source": [
    "table_builder = TableBuilder()\n",
    "table_df = table_builder.run(data_manager)\n",
    "table_df.to_csv('./output/table_df_20240125_v1.csv', index=False, header=[\n",
    "    'Predictor', 'Levels', 'Total / median number of cases (n=11890)', 'Composite outcome positive (n=380)', 'Composite outcome negative (n=11510)'\n",
    "])\n",
    "table_df"
   ]
  },
  {
   "cell_type": "markdown",
   "id": "415bdfff-5e8d-4e2e-b645-261cb3c0b627",
   "metadata": {},
   "source": [
    "Save out the cleaned data for verification purposes:"
   ]
  },
  {
   "cell_type": "code",
   "execution_count": 26,
   "id": "358f8695-f120-4e33-9d15-2049d261299c",
   "metadata": {},
   "outputs": [],
   "source": [
    "data_manager.df.to_csv('./data/sepsis_updated_data_Feb21-Sep23_n11890_v2.csv', index=False)"
   ]
  },
  {
   "cell_type": "code",
   "execution_count": null,
   "id": "c9e92d8d-f53a-46e3-b1b1-b334b5e8b2e4",
   "metadata": {},
   "outputs": [],
   "source": []
  }
 ],
 "metadata": {
  "kernelspec": {
   "display_name": "neotree",
   "language": "python",
   "name": "neotree"
  },
  "language_info": {
   "codemirror_mode": {
    "name": "ipython",
    "version": 3
   },
   "file_extension": ".py",
   "mimetype": "text/x-python",
   "name": "python",
   "nbconvert_exporter": "python",
   "pygments_lexer": "ipython3",
   "version": "3.9.16"
  }
 },
 "nbformat": 4,
 "nbformat_minor": 5
}
